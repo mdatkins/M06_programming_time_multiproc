{
 "cells": [
  {
   "cell_type": "markdown",
   "id": "090ebf63",
   "metadata": {},
   "source": [
    "Lubanovic problem 13.1: Write the current date as a string to the text file today.txt."
   ]
  },
  {
   "cell_type": "code",
   "execution_count": 1,
   "id": "1ee8d8de",
   "metadata": {},
   "outputs": [],
   "source": [
    "# import calendar\n",
    "from datetime import date\n",
    "now = date.today()\n",
    "now_str = now.isoformat() # make a string\n",
    "\n",
    "with open('today.txt', 'wt') as fout:   \n",
    "    fout.write(now_str)"
   ]
  },
  {
   "cell_type": "markdown",
   "id": "c489e377",
   "metadata": {},
   "source": [
    "Lubanovic problem 13.2: Read the text file today.txt into the string today_string."
   ]
  },
  {
   "cell_type": "code",
   "execution_count": 3,
   "id": "3c17941e",
   "metadata": {},
   "outputs": [
    {
     "name": "stdout",
     "output_type": "stream",
     "text": [
      "Today is  2023-11-27\n"
     ]
    }
   ],
   "source": [
    "with open('today.txt', 'r') as f:   \n",
    "    today_string = f.readline()\n",
    "    print(\"Today is \", today_string)"
   ]
  },
  {
   "cell_type": "markdown",
   "id": "d79a398e",
   "metadata": {},
   "source": [
    "Lubanovic problem 13.3: Parse the date from today_string"
   ]
  },
  {
   "cell_type": "code",
   "execution_count": 4,
   "id": "c73dc20f",
   "metadata": {},
   "outputs": [
    {
     "data": {
      "text/plain": [
       "time.struct_time(tm_year=2023, tm_mon=11, tm_mday=27, tm_hour=0, tm_min=0, tm_sec=0, tm_wday=0, tm_yday=331, tm_isdst=-1)"
      ]
     },
     "execution_count": 4,
     "metadata": {},
     "output_type": "execute_result"
    }
   ],
   "source": [
    "import time\n",
    "with open('today.txt', 'r') as f:   \n",
    "    today_string = f.readline()\n",
    "fmt = \"%Y-%m-%d\"\n",
    "time.strptime(today_string, fmt)"
   ]
  },
  {
   "cell_type": "markdown",
   "id": "c9b3158a",
   "metadata": {},
   "source": [
    "Lubanovic problem 15.1: Use *multiprocessing* to create three separate processes. Make each one wait a random number of seconds between zero and one, print the current time, and then exit."
   ]
  },
  {
   "cell_type": "code",
   "execution_count": 11,
   "id": "f21cc4e1",
   "metadata": {},
   "outputs": [
    {
     "name": "stdout",
     "output_type": "stream",
     "text": [
      "Starting the main program at time 2023-11-27 10:26:22.736690\n"
     ]
    }
   ],
   "source": [
    "import multiprocessing\n",
    "import os\n",
    "import time\n",
    "from datetime import datetime  ## get most accurate time\n",
    "from random import random  ## returns a random float between 0 and 1\n",
    "\n",
    "def wait_print_time(): #wait a random fraction of a second, print the current time, and exit\n",
    "    ran = random()\n",
    "    time.sleep(ran)\n",
    "    #print current time\n",
    "    print(\"Process %s says: The time is %s after waiting %s secs.\" % (os.getpid(), datetime.now(), ran)) \n",
    "    \n",
    "if __name__ == \"__main__\":\n",
    "    print(\"Starting the main program at time %s\" % datetime.now())\n",
    "    for n in range(3):\n",
    "        p = multiprocessing.Process(target=wait_print_time)\n",
    "        p.start()"
   ]
  },
  {
   "cell_type": "markdown",
   "id": "2a2bbe52",
   "metadata": {},
   "source": [
    "Note that the above multiprocessing program works fine in vscode, but Jupyter notebooks apparently does not support multiprocessing.  Here is what vscode printed:\n",
    "\n",
    "Starting the main program at time 2023-11-27 10:25:30.847258\n",
    "Process 26332 says: The time is 2023-11-27 10:25:30.948570 after waiting 0.026281381117431724 secs.\n",
    "Process 22032 says: The time is 2023-11-27 10:25:31.444922 after waiting 0.5189104963703869 secs.\n",
    "Process 21772 says: The time is 2023-11-27 10:25:31.743488 after waiting 0.8210844018078565 secs.\n"
   ]
  }
 ],
 "metadata": {
  "kernelspec": {
   "display_name": "Python 3 (ipykernel)",
   "language": "python",
   "name": "python3"
  },
  "language_info": {
   "codemirror_mode": {
    "name": "ipython",
    "version": 3
   },
   "file_extension": ".py",
   "mimetype": "text/x-python",
   "name": "python",
   "nbconvert_exporter": "python",
   "pygments_lexer": "ipython3",
   "version": "3.11.5"
  }
 },
 "nbformat": 4,
 "nbformat_minor": 5
}
